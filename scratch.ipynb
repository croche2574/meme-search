{
 "cells": [
  {
   "cell_type": "markdown",
   "metadata": {},
   "source": [
    "## 0.  Re-creating the sqlite db to get rid of \"chunk_index\" as primary key"
   ]
  },
  {
   "cell_type": "code",
   "execution_count": 49,
   "metadata": {},
   "outputs": [],
   "source": [
    "\n",
    "def create_chunk_db(img_chunks: list, db_filepath: str) -> None:\n",
    "    # Create a lookup table for chunks\n",
    "    conn = sqlite3.connect(db_filepath)\n",
    "    cursor = conn.cursor()\n",
    "\n",
    "    # Create the table  - delete old table if it exists\n",
    "    cursor.execute(\"DROP TABLE IF EXISTS chunks_reverse_lookup\")\n",
    "\n",
    "    # Create the table - alias rowid as chunk_index\n",
    "    cursor.execute(\"\"\"\n",
    "        CREATE TABLE IF NOT EXISTS chunks_reverse_lookup (\n",
    "            img_path TEXT,\n",
    "            chunk TEXT\n",
    "        );\n",
    "    \"\"\")\n",
    "\n",
    "    # Insert data into the table\n",
    "    for chunk_index, entry in enumerate(img_chunks):\n",
    "        img_path = entry[\"img_path\"]\n",
    "        chunk = entry[\"chunk\"]\n",
    "        cursor.execute(\n",
    "            \"INSERT INTO chunks_reverse_lookup (img_path, chunk) VALUES (?, ?)\",\n",
    "            (img_path, chunk),\n",
    "        )\n",
    "\n",
    "    conn.commit()\n",
    "    conn.close()\n",
    "    \n",
    "    \n",
    "def query_sqlite_db(indices: list, db_filepath: str) -> list:\n",
    "    conn = sqlite3.connect(db_filepath)\n",
    "    cursor = conn.cursor()\n",
    "    query = f\"SELECT rowid, * FROM chunks_reverse_lookup WHERE rowid IN {tuple(indices)}\"\n",
    "    cursor.execute(query)\n",
    "    rows = cursor.fetchall()\n",
    "    rows = [{\"index\": row[0], \"img_path\": row[1], \"chunk\": row[2]} for row in rows]\n",
    "    rows = sorted(rows, key=lambda x: indices.index(x[\"index\"]))  # re-sort rows according to input indices\n",
    "    for row in rows:\n",
    "        query = f\"SELECT rowid, * FROM chunks_reverse_lookup WHERE rowid=(SELECT MIN(rowid) FROM chunks_reverse_lookup WHERE img_path='{row['img_path']}')\"\n",
    "        cursor.execute(query)\n",
    "        full_description_row = cursor.fetchall()\n",
    "        row[\"full_description\"] = full_description_row[0][2]\n",
    "    conn.close()\n",
    "    return rows"
   ]
  },
  {
   "cell_type": "code",
   "execution_count": 37,
   "metadata": {},
   "outputs": [
    {
     "name": "stdout",
     "output_type": "stream",
     "text": [
      "STARTING: collect_img_paths\n",
      "SUCCESS: collect_img_paths ran successfully - image paths loaded from '/Users/jeremywatt/Desktop/meme_search/data/input'\n",
      "STARTING: extract_text_from_imgs\n",
      "INFO: prompting moondream for a description of image: '/Users/jeremywatt/Desktop/meme_search/data/input/test_meme_1.jpg'\n",
      "DONE!\n",
      "SUCCESS: extract_text_from_imgs succeeded\n",
      "STARTING: create_all_img_chunks\n",
      "SUCCESS: create_all_img_chunks ran successfully\n"
     ]
    },
    {
     "ename": "NameError",
     "evalue": "name 'create_chunk_db' is not defined",
     "output_type": "error",
     "traceback": [
      "\u001b[0;31m---------------------------------------------------------------------------\u001b[0m",
      "\u001b[0;31mNameError\u001b[0m                                 Traceback (most recent call last)",
      "Cell \u001b[0;32mIn[37], line 10\u001b[0m\n\u001b[1;32m      8\u001b[0m moondream_answers \u001b[38;5;241m=\u001b[39m extract_text_from_imgs(all_img_paths)\n\u001b[1;32m      9\u001b[0m img_chunks \u001b[38;5;241m=\u001b[39m create_all_img_chunks(all_img_paths, moondream_answers)\n\u001b[0;32m---> 10\u001b[0m \u001b[43mcreate_chunk_db\u001b[49m(img_chunks, \u001b[38;5;124m\"\u001b[39m\u001b[38;5;124mtest.db\u001b[39m\u001b[38;5;124m\"\u001b[39m)\n",
      "\u001b[0;31mNameError\u001b[0m: name 'create_chunk_db' is not defined"
     ]
    }
   ],
   "source": [
    "from meme_search.utilities.text_extraction import extract_text_from_imgs\n",
    "from meme_search.utilities.chunks import create_all_img_chunks\n",
    "from meme_search.utilities.imgs import collect_img_paths\n",
    "\n",
    "all_img_paths = [collect_img_paths()[0]]\n",
    "\n",
    "\n",
    "moondream_answers = extract_text_from_imgs(all_img_paths)\n",
    "img_chunks = create_all_img_chunks(all_img_paths, moondream_answers)\n",
    "create_chunk_db(img_chunks, \"test.db\")"
   ]
  },
  {
   "cell_type": "code",
   "execution_count": 41,
   "metadata": {},
   "outputs": [],
   "source": [
    "create_chunk_db(img_chunks, \"test.db\")"
   ]
  },
  {
   "cell_type": "code",
   "execution_count": 50,
   "metadata": {},
   "outputs": [
    {
     "data": {
      "text/plain": [
       "[{'index': 1,\n",
       "  'img_path': '/Users/jeremywatt/Desktop/meme_search/data/input/test_meme_1.jpg',\n",
       "  'chunk': 'the image features a man dressed in a suit and tie, holding a glass of wine in his right hand. he is wearing a white flower on his lapel. the background is blurred, suggesting a room with a window and a painting on the wall. the text in the image reads, \"when you see there\\'s a moderator rulebanning not safe for work content but you\\'reunemployed.\"',\n",
       "  'full_description': 'the image features a man dressed in a suit and tie, holding a glass of wine in his right hand. he is wearing a white flower on his lapel. the background is blurred, suggesting a room with a window and a painting on the wall. the text in the image reads, \"when you see there\\'s a moderator rulebanning not safe for work content but you\\'reunemployed.\"'},\n",
       " {'index': 2,\n",
       "  'img_path': '/Users/jeremywatt/Desktop/meme_search/data/input/test_meme_1.jpg',\n",
       "  'chunk': 'the image features a',\n",
       "  'full_description': 'the image features a man dressed in a suit and tie, holding a glass of wine in his right hand. he is wearing a white flower on his lapel. the background is blurred, suggesting a room with a window and a painting on the wall. the text in the image reads, \"when you see there\\'s a moderator rulebanning not safe for work content but you\\'reunemployed.\"'}]"
      ]
     },
     "execution_count": 50,
     "metadata": {},
     "output_type": "execute_result"
    }
   ],
   "source": [
    "query_sqlite_db([1,2], \"test.db\")"
   ]
  },
  {
   "cell_type": "code",
   "execution_count": null,
   "metadata": {},
   "outputs": [],
   "source": []
  },
  {
   "cell_type": "markdown",
   "metadata": {},
   "source": [
    "## 1. Collect names from directory and db for compare"
   ]
  },
  {
   "cell_type": "code",
   "execution_count": 1,
   "metadata": {},
   "outputs": [
    {
     "name": "stderr",
     "output_type": "stream",
     "text": [
      "/Users/jeremywatt/Desktop/meme_search/venv/lib/python3.10/site-packages/tqdm/auto.py:21: TqdmWarning: IProgress not found. Please update jupyter and ipywidgets. See https://ipywidgets.readthedocs.io/en/stable/user_install.html\n",
      "  from .autonotebook import tqdm as notebook_tqdm\n"
     ]
    },
    {
     "name": "stdout",
     "output_type": "stream",
     "text": [
      "STARTING: collect_img_paths\n",
      "SUCCESS: collect_img_paths ran successfully - image paths loaded from '/Users/jeremywatt/Desktop/meme_search/data/input'\n",
      "STARTING: collecting currently indexed names\n",
      "SUCCESS: get_current_indexed_img_names ran successfully\n"
     ]
    }
   ],
   "source": [
    "from meme_search.utilities.imgs import collect_img_paths\n",
    "import sqlite3\n",
    "from meme_search import sqlite_db_path\n",
    "\n",
    "def get_current_indexed_img_names():\n",
    "    try:\n",
    "        print(\"STARTING: collecting currently indexed names\")\n",
    "        conn = sqlite3.connect(sqlite_db_path)\n",
    "        cursor = conn.cursor()\n",
    "        query = f\"SELECT DISTINCT(img_path) FROM chunks_reverse_lookup\"\n",
    "        cursor.execute(query)\n",
    "        rows = cursor.fetchall()\n",
    "        rows = [v[0] for v in rows]\n",
    "        conn.close()\n",
    "        print(\"SUCCESS: get_current_indexed_img_names ran successfully\")\n",
    "        return rows\n",
    "    except Exception as e:\n",
    "        raise ValueError(f\"FAILURE: get_current_indexed_img_names failed with exception {e}\")\n",
    "\n",
    "\n",
    "all_img_paths = collect_img_paths()\n",
    "all_img_paths_stubs = [\"./\" + \"/\".join(v.split(\"/\")[-3:]).strip() for v in all_img_paths]\n",
    "current_indexed_names = get_current_indexed_img_names()\n",
    "\n",
    "new_imgs_to_be_indexed = list(set(all_img_paths_stubs) - set(current_indexed_names))\n",
    "old_imgs_to_be_removed = list(set(current_indexed_names) - set(all_img_paths_stubs))"
   ]
  },
  {
   "cell_type": "markdown",
   "metadata": {},
   "source": [
    "## 2.  Remove any db trace of img not in directory anymore"
   ]
  },
  {
   "cell_type": "code",
   "execution_count": 36,
   "metadata": {},
   "outputs": [],
   "source": [
    "import numpy as np\n",
    "import faiss\n",
    "\n",
    "\n",
    "def collect_removal_rowids(old_imgs_to_be_removed: list) -> list:\n",
    "    try:\n",
    "        if len(old_imgs_to_be_removed) > 0:\n",
    "            conn = sqlite3.connect(sqlite_db_path)\n",
    "            cursor = conn.cursor()\n",
    "            query = f\"\"\"SELECT rowid FROM chunks_reverse_lookup WHERE img_path IN ({','.join(['\"'+v+'\"' for v in old_imgs_to_be_removed])})\"\"\"\n",
    "            cursor.execute(query)\n",
    "            rows = cursor.fetchall()\n",
    "            rowids = [v[0] for v in rows]\n",
    "            conn.close()\n",
    "            return rowids\n",
    "        else:\n",
    "            return []\n",
    "    except Exception as e:\n",
    "        raise ValueError(\"FAILURE: collect_removal_rowids failed with exception{e}\")\n",
    "    \n",
    "    \n",
    "def delete_removal_rowids_from_reverse_lookup(rowids: list) -> None:\n",
    "    try:\n",
    "        if len(rowids) > 0:\n",
    "            conn = sqlite3.connect(sqlite_db_path)\n",
    "            cursor = conn.cursor()\n",
    "            query =  f\"\"\"DELETE FROM chunks_reverse_lookup WHERE rowid IN ({','.join([str(v) for v in rowids])})\"\"\"\n",
    "            cursor.execute(query)\n",
    "            rows = cursor.fetchall()\n",
    "            rowids = [v[0] for v in rows]\n",
    "            conn.close()\n",
    "    except Exception as e:\n",
    "        raise ValueError(\"FAILURE: delete_removal_rowids failed with exception{e}\")\n",
    "\n",
    "\n",
    "def delete_removal_rowids_from_vector_db(rowids: list, \n",
    "                                         path_to_index: str) -> None:\n",
    "    try:\n",
    "        if len(rowids) > 0:\n",
    "            index = faiss.read_index(path_to_index)\n",
    "            remove_set = np.array(rowids, dtype=np.int64)\n",
    "            index.remove_ids(remove_set)\n",
    "            faiss.write_index(index, path_to_index)\n",
    "    except Exception as e:\n",
    "        raise ValueError(\"FAILURE: delete_removal_rowids failed with exception{e}\")"
   ]
  },
  {
   "cell_type": "code",
   "execution_count": 35,
   "metadata": {},
   "outputs": [
    {
     "name": "stdout",
     "output_type": "stream",
     "text": [
      "['./data/input/test_meme_1.jpg']\n",
      "[0, 1, 2, 3, 4, 5, 6, 7, 8, 9, 10, 11, 12, 13, 14, 15, 16, 17, 18, 19, 20, 21, 22, 23, 24, 25, 26, 27, 28, 29, 30, 31, 32]\n"
     ]
    }
   ],
   "source": [
    "test_paths = [all_img_paths_stubs[0]]\n",
    "print(test_paths)\n",
    "\n",
    "rowids = collect_removal_rowids(test_paths)\n",
    "print(rowids)\n",
    "\n",
    "delete_removal_rowids_from_reverse_lookup(rowids)\n"
   ]
  },
  {
   "cell_type": "markdown",
   "metadata": {},
   "source": [
    "## 3. Adding new additions"
   ]
  },
  {
   "cell_type": "code",
   "execution_count": 29,
   "metadata": {},
   "outputs": [],
   "source": [
    "# \n",
    "\n"
   ]
  },
  {
   "cell_type": "code",
   "execution_count": 30,
   "metadata": {},
   "outputs": [
    {
     "data": {
      "text/plain": [
       "[0,\n",
       " 1,\n",
       " 2,\n",
       " 3,\n",
       " 4,\n",
       " 5,\n",
       " 6,\n",
       " 7,\n",
       " 8,\n",
       " 9,\n",
       " 10,\n",
       " 11,\n",
       " 12,\n",
       " 13,\n",
       " 14,\n",
       " 15,\n",
       " 16,\n",
       " 17,\n",
       " 18,\n",
       " 19,\n",
       " 20,\n",
       " 21,\n",
       " 22,\n",
       " 23,\n",
       " 24,\n",
       " 25,\n",
       " 26,\n",
       " 27,\n",
       " 28,\n",
       " 29,\n",
       " 30,\n",
       " 31,\n",
       " 32]"
      ]
     },
     "execution_count": 30,
     "metadata": {},
     "output_type": "execute_result"
    }
   ],
   "source": [
    "rowids"
   ]
  },
  {
   "cell_type": "code",
   "execution_count": 27,
   "metadata": {},
   "outputs": [
    {
     "data": {
      "text/plain": [
       "'DELETE FROM chunks_reverse_lookup WHERE rowid IN (0,1,2,3,4,5,6,7,8,9,10,11,12,13,14,15,16,17,18,19,20,21,22,23,24,25,26,27,28,29,30,31,32)'"
      ]
     },
     "execution_count": 27,
     "metadata": {},
     "output_type": "execute_result"
    }
   ],
   "source": []
  },
  {
   "cell_type": "code",
   "execution_count": null,
   "metadata": {},
   "outputs": [],
   "source": []
  },
  {
   "cell_type": "code",
   "execution_count": 2,
   "metadata": {},
   "outputs": [],
   "source": [
    "new_imgs_to_be_indexed = [v for v in all_img_paths_names if v in "
   ]
  },
  {
   "cell_type": "code",
   "execution_count": 3,
   "metadata": {},
   "outputs": [
    {
     "data": {
      "text/plain": [
       "[]"
      ]
     },
     "execution_count": 3,
     "metadata": {},
     "output_type": "execute_result"
    }
   ],
   "source": [
    "old_imgs_to_be_removed"
   ]
  },
  {
   "cell_type": "code",
   "execution_count": 4,
   "metadata": {},
   "outputs": [
    {
     "data": {
      "text/plain": [
       "[]"
      ]
     },
     "execution_count": 4,
     "metadata": {},
     "output_type": "execute_result"
    }
   ],
   "source": [
    "new_imgs_to_be_indexed"
   ]
  },
  {
   "cell_type": "code",
   "execution_count": 19,
   "metadata": {},
   "outputs": [
    {
     "data": {
      "text/plain": [
       "'test_meme_1.jpg'"
      ]
     },
     "execution_count": 19,
     "metadata": {},
     "output_type": "execute_result"
    }
   ],
   "source": [
    "rows[0][0].split(\"/\")[-1]"
   ]
  },
  {
   "cell_type": "code",
   "execution_count": 20,
   "metadata": {},
   "outputs": [],
   "source": []
  },
  {
   "cell_type": "code",
   "execution_count": 21,
   "metadata": {},
   "outputs": [
    {
     "data": {
      "text/plain": [
       "['test_meme_1.jpg',\n",
       " 'test_meme_2.jpg',\n",
       " 'test_meme_3.jpg',\n",
       " 'test_meme_4.jpg',\n",
       " 'test_meme_5.jpg',\n",
       " 'test_meme_6.jpg',\n",
       " 'test_meme_7.jpg',\n",
       " 'test_meme_8.jpg',\n",
       " 'test_meme_9.jpg']"
      ]
     },
     "execution_count": 21,
     "metadata": {},
     "output_type": "execute_result"
    }
   ],
   "source": [
    "rows"
   ]
  }
 ],
 "metadata": {
  "kernelspec": {
   "display_name": "venv",
   "language": "python",
   "name": "python3"
  },
  "language_info": {
   "codemirror_mode": {
    "name": "ipython",
    "version": 3
   },
   "file_extension": ".py",
   "mimetype": "text/x-python",
   "name": "python",
   "nbconvert_exporter": "python",
   "pygments_lexer": "ipython3",
   "version": "3.10.13"
  }
 },
 "nbformat": 4,
 "nbformat_minor": 2
}
